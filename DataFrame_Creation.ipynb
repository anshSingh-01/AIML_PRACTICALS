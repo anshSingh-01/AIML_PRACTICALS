{
 "cells": [
  {
   "cell_type": "code",
   "execution_count": 3,
   "id": "765e104f-e314-4a41-b293-ca0056b3cd83",
   "metadata": {},
   "outputs": [],
   "source": [
    "## Creating a DataFrame"
   ]
  },
  {
   "cell_type": "code",
   "execution_count": 6,
   "id": "fd48e4ab-54d8-45f5-ae61-da410f317846",
   "metadata": {},
   "outputs": [
    {
     "ename": "ModuleNotFoundError",
     "evalue": "No module named 'matplotlib'",
     "output_type": "error",
     "traceback": [
      "\u001b[1;31m---------------------------------------------------------------------------\u001b[0m",
      "\u001b[1;31mModuleNotFoundError\u001b[0m                       Traceback (most recent call last)",
      "Cell \u001b[1;32mIn[6], line 3\u001b[0m\n\u001b[0;32m      1\u001b[0m \u001b[38;5;28;01mimport\u001b[39;00m \u001b[38;5;21;01mpandas\u001b[39;00m \u001b[38;5;28;01mas\u001b[39;00m \u001b[38;5;21;01mpd\u001b[39;00m\n\u001b[0;32m      2\u001b[0m \u001b[38;5;28;01mimport\u001b[39;00m \u001b[38;5;21;01mnumpy\u001b[39;00m \u001b[38;5;28;01mas\u001b[39;00m \u001b[38;5;21;01mnp\u001b[39;00m\n\u001b[1;32m----> 3\u001b[0m \u001b[38;5;28;01mimport\u001b[39;00m \u001b[38;5;21;01mmatplotlib\u001b[39;00m\u001b[38;5;21;01m.\u001b[39;00m\u001b[38;5;21;01mpyplot\u001b[39;00m \u001b[38;5;28;01mas\u001b[39;00m \u001b[38;5;21;01mplt\u001b[39;00m\n\u001b[0;32m      4\u001b[0m \u001b[38;5;28;01mimport\u001b[39;00m \u001b[38;5;21;01mos\u001b[39;00m\n\u001b[0;32m      5\u001b[0m \u001b[38;5;28;01mfrom\u001b[39;00m \u001b[38;5;21;01mpathlib\u001b[39;00m \u001b[38;5;28;01mimport\u001b[39;00m Path\n",
      "\u001b[1;31mModuleNotFoundError\u001b[0m: No module named 'matplotlib'"
     ]
    }
   ],
   "source": [
    "import pandas as pd\n",
    "import numpy as np\n",
    "#import matplotlib.pyplot as plt\n",
    "import os\n",
    "from pathlib import Path\n",
    "\n",
    "# 1. DATAFRAME CREATION METHODS\n",
    "print(\"===== DATAFRAME CREATION =====\")\n"
   ]
  },
  {
   "cell_type": "code",
   "execution_count": null,
   "id": "c9f196f0-bba9-4362-8e1c-9ea92cca9592",
   "metadata": {},
   "outputs": [],
   "source": [
    "# Method 1: From a dictionary\n",
    "print(\"\\nCreation from dictionary:\")\n",
    "data_dict = {\n",
    "    'Name': ['John', 'Anna', 'Peter', 'Linda'],\n",
    "    'Age': [28, 34, 29, 42],\n",
    "    'City': ['New York', 'Paris', 'Berlin', 'London'],\n",
    "    'Salary': [75000, 82000, 67000, 95000]\n",
    "}\n",
    "df1 = pd.DataFrame(data_dict)\n",
    "print(df1)"
   ]
  },
  {
   "cell_type": "code",
   "execution_count": null,
   "id": "50546ed1-ffbf-4068-9c22-3129b15d639f",
   "metadata": {},
   "outputs": [],
   "source": [
    "# Method 2: From lists\n",
    "print(\"\\nCreation from lists:\")\n",
    "data_lists = [\n",
    "    ['John', 28, 'New York', 75000],\n",
    "    ['Anna', 34, 'Paris', 82000],\n",
    "    ['Peter', 29, 'Berlin', 67000],\n",
    "    ['Linda', 42, 'London', 95000]\n",
    "]\n",
    "df2 = pd.DataFrame(data_lists, columns=['Name', 'Age', 'City', 'Salary'])\n",
    "print(df2)"
   ]
  },
  {
   "cell_type": "code",
   "execution_count": null,
   "id": "a3dcc0ae-50eb-4c49-8424-1f490cbd3c29",
   "metadata": {},
   "outputs": [],
   "source": [
    "# Method 3: From NumPy array\n",
    "print(\"\\nCreation from NumPy array:\")\n",
    "data_array = np.array([\n",
    "    ['John', 28, 'New York', 75000],\n",
    "    ['Anna', 34, 'Paris', 82000],\n",
    "    ['Peter', 29, 'Berlin', 67000],\n",
    "    ['Linda', 42, 'London', 95000]\n",
    "])\n",
    "df3 = pd.DataFrame(data_array, columns=['Name', 'Age', 'City', 'Salary'])\n",
    "print(df3)"
   ]
  },
  {
   "cell_type": "code",
   "execution_count": null,
   "id": "e1cb1800-54b9-4ccf-acba-22ee30444993",
   "metadata": {},
   "outputs": [],
   "source": [
    "# Method 4: From Series\n",
    "print(\"\\nCreation from Series:\")\n",
    "name = pd.Series(['John', 'Anna', 'Peter', 'Linda'])\n",
    "age = pd.Series([28, 34, 29, 42])\n",
    "city = pd.Series(['New York', 'Paris', 'Berlin', 'London'])\n",
    "salary = pd.Series([75000, 82000, 67000, 95000])\n",
    "df4 = pd.DataFrame({'Name': name, 'Age': age, 'City': city, 'Salary': salary})\n",
    "print(df4)"
   ]
  },
  {
   "cell_type": "code",
   "execution_count": null,
   "id": "d655fb74-2c6d-4017-83fd-9125d9551972",
   "metadata": {},
   "outputs": [],
   "source": [
    "print(os.listdir('.'))\n",
    "data_dir = Path('nyc_weather.csv')"
   ]
  },
  {
   "cell_type": "code",
   "execution_count": null,
   "id": "e0c5e272-a6bd-4552-8e74-bccb33833ccf",
   "metadata": {},
   "outputs": [],
   "source": [
    "# Method 5: From CSV (commented out as it requires a file)\n",
    "df5 = pd.read_csv(data_dir)"
   ]
  },
  {
   "cell_type": "code",
   "execution_count": null,
   "id": "d6cb3449-5fd7-4c3c-b7b9-234e8dddc474",
   "metadata": {},
   "outputs": [],
   "source": [
    "df5"
   ]
  },
  {
   "cell_type": "code",
   "execution_count": 5,
   "id": "2bfce198-24ee-4549-b2f4-751452cc5f0a",
   "metadata": {},
   "outputs": [
    {
     "ename": "NameError",
     "evalue": "name 'Path' is not defined",
     "output_type": "error",
     "traceback": [
      "\u001b[1;31m---------------------------------------------------------------------------\u001b[0m",
      "\u001b[1;31mNameError\u001b[0m                                 Traceback (most recent call last)",
      "Cell \u001b[1;32mIn[5], line 2\u001b[0m\n\u001b[0;32m      1\u001b[0m \u001b[38;5;66;03m# Method 6: From Excel (commented out as it requires a file)\u001b[39;00m\n\u001b[1;32m----> 2\u001b[0m df6 \u001b[38;5;241m=\u001b[39m pd\u001b[38;5;241m.\u001b[39mread_excel(\u001b[43mPath\u001b[49m(\u001b[38;5;124m'\u001b[39m\u001b[38;5;124mnyc_weather.xlsx\u001b[39m\u001b[38;5;124m'\u001b[39m))\n\u001b[0;32m      3\u001b[0m df6\n",
      "\u001b[1;31mNameError\u001b[0m: name 'Path' is not defined"
     ]
    }
   ],
   "source": [
    "# Method 6: From Excel (commented out as it requires a file)\n",
    "df6 = pd.read_excel(Path('nyc_weather.xlsx'))\n",
    "df6"
   ]
  },
  {
   "cell_type": "code",
   "execution_count": null,
   "id": "716218de-40b9-441e-8e89-f37ffd17dfdf",
   "metadata": {},
   "outputs": [],
   "source": [
    "# Method 7: From a database (commented out as it requires a connection)\n",
    "# import sqlite3\n",
    "# conn = sqlite3.connect('database.db')\n",
    "# df7 = pd.read_sql_query(\"SELECT * FROM employees\", conn)"
   ]
  },
  {
   "cell_type": "code",
   "execution_count": null,
   "id": "c6b5ab62-98cf-4262-9df0-db69aa6cb6e9",
   "metadata": {},
   "outputs": [],
   "source": [
    "# Method 8: Empty DataFrame with defined structure\n",
    "print(\"\\nCreation of empty DataFrame with structure:\")\n",
    "df8 = pd.DataFrame(columns=['Name', 'Age', 'City', 'Salary'])\n",
    "print(df8)"
   ]
  }
 ],
 "metadata": {
  "kernelspec": {
   "display_name": "Python 3 (ipykernel)",
   "language": "python",
   "name": "python3"
  },
  "language_info": {
   "codemirror_mode": {
    "name": "ipython",
    "version": 3
   },
   "file_extension": ".py",
   "mimetype": "text/x-python",
   "name": "python",
   "nbconvert_exporter": "python",
   "pygments_lexer": "ipython3",
   "version": "3.11.3"
  }
 },
 "nbformat": 4,
 "nbformat_minor": 5
}
